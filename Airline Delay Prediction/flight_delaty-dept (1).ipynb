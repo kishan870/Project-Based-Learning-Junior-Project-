{
 "cells": [
  {
   "cell_type": "code",
   "execution_count": 3,
   "metadata": {},
   "outputs": [],
   "source": [
    "import pandas as pd\n",
    "import numpy as np\n",
    "import matplotlib.pyplot as plt\n",
    "%matplotlib inline\n",
    "import seaborn as sns\n"
   ]
  },
  {
   "cell_type": "code",
   "execution_count": 4,
   "metadata": {},
   "outputs": [
    {
     "name": "stderr",
     "output_type": "stream",
     "text": [
      "C:\\Anaconda\\lib\\site-packages\\IPython\\core\\interactiveshell.py:2728: DtypeWarning: Columns (48,77,84) have mixed types. Specify dtype option on import or set low_memory=False.\n",
      "  interactivity=interactivity, compiler=compiler, result=result)\n"
     ]
    }
   ],
   "source": [
    "flights=pd.read_csv('On_Time_On_Time_Performance_2017_1.csv')"
   ]
  },
  {
   "cell_type": "code",
   "execution_count": 5,
   "metadata": {},
   "outputs": [
    {
     "name": "stdout",
     "output_type": "stream",
     "text": [
      "(450017, 110)\n",
      "   Year  Quarter  Month  DayofMonth  DayOfWeek  FlightDate UniqueCarrier  \\\n",
      "0  2017        1      1          17          2  2017-01-17            AA   \n",
      "1  2017        1      1          18          3  2017-01-18            AA   \n",
      "2  2017        1      1          19          4  2017-01-19            AA   \n",
      "3  2017        1      1          20          5  2017-01-20            AA   \n",
      "4  2017        1      1          21          6  2017-01-21            AA   \n",
      "\n",
      "   AirlineID Carrier TailNum      ...       Div4TailNum  Div5Airport  \\\n",
      "0      19805      AA  N583AA      ...               NaN          NaN   \n",
      "1      19805      AA  N544AA      ...               NaN          NaN   \n",
      "2      19805      AA  N553AA      ...               NaN          NaN   \n",
      "3      19805      AA  N191AA      ...               NaN          NaN   \n",
      "4      19805      AA  N170AA      ...               NaN          NaN   \n",
      "\n",
      "   Div5AirportID  Div5AirportSeqID Div5WheelsOn Div5TotalGTime  \\\n",
      "0            NaN               NaN          NaN            NaN   \n",
      "1            NaN               NaN          NaN            NaN   \n",
      "2            NaN               NaN          NaN            NaN   \n",
      "3            NaN               NaN          NaN            NaN   \n",
      "4            NaN               NaN          NaN            NaN   \n",
      "\n",
      "  Div5LongestGTime  Div5WheelsOff Div5TailNum  Unnamed: 109  \n",
      "0              NaN            NaN         NaN           NaN  \n",
      "1              NaN            NaN         NaN           NaN  \n",
      "2              NaN            NaN         NaN           NaN  \n",
      "3              NaN            NaN         NaN           NaN  \n",
      "4              NaN            NaN         NaN           NaN  \n",
      "\n",
      "[5 rows x 110 columns]\n"
     ]
    }
   ],
   "source": [
    "print(flights.shape)\n",
    "print(flights.head())"
   ]
  },
  {
   "cell_type": "code",
   "execution_count": 6,
   "metadata": {},
   "outputs": [
    {
     "data": {
      "text/plain": [
       "(450017, 110)"
      ]
     },
     "execution_count": 6,
     "metadata": {},
     "output_type": "execute_result"
    }
   ],
   "source": [
    "flights = flights[flights['Month'] == 1]\n",
    "flights.shape"
   ]
  },
  {
   "cell_type": "code",
   "execution_count": 7,
   "metadata": {},
   "outputs": [],
   "source": [
    "#i am dropping columns columns with 2/3rd of missing data\n",
    "for i in flights.columns:\n",
    "    if flights[i].isnull().sum() > 300000:\n",
    "        flights.drop(i, axis = 1, inplace = True)"
   ]
  },
  {
   "cell_type": "code",
   "execution_count": 8,
   "metadata": {},
   "outputs": [],
   "source": [
    "#columns like year which is constant is dropped\n",
    "#i,e if no of unique elements is 1,drop those\n",
    "for i in flights.columns:\n",
    "    if flights[i].nunique() == 1:\n",
    "        flights.drop(i, axis = 1, inplace = True)"
   ]
  },
  {
   "cell_type": "code",
   "execution_count": 9,
   "metadata": {},
   "outputs": [
    {
     "data": {
      "text/html": [
       "<div>\n",
       "<style scoped>\n",
       "    .dataframe tbody tr th:only-of-type {\n",
       "        vertical-align: middle;\n",
       "    }\n",
       "\n",
       "    .dataframe tbody tr th {\n",
       "        vertical-align: top;\n",
       "    }\n",
       "\n",
       "    .dataframe thead th {\n",
       "        text-align: right;\n",
       "    }\n",
       "</style>\n",
       "<table border=\"1\" class=\"dataframe\">\n",
       "  <thead>\n",
       "    <tr style=\"text-align: right;\">\n",
       "      <th></th>\n",
       "      <th>variable</th>\n",
       "      <th>missing values</th>\n",
       "      <th>filling factor (%)</th>\n",
       "    </tr>\n",
       "  </thead>\n",
       "  <tbody>\n",
       "    <tr>\n",
       "      <th>0</th>\n",
       "      <td>ArrDelay</td>\n",
       "      <td>10372</td>\n",
       "      <td>97.695198</td>\n",
       "    </tr>\n",
       "    <tr>\n",
       "      <th>1</th>\n",
       "      <td>ArrDelayMinutes</td>\n",
       "      <td>10372</td>\n",
       "      <td>97.695198</td>\n",
       "    </tr>\n",
       "    <tr>\n",
       "      <th>2</th>\n",
       "      <td>ArrDel15</td>\n",
       "      <td>10372</td>\n",
       "      <td>97.695198</td>\n",
       "    </tr>\n",
       "    <tr>\n",
       "      <th>3</th>\n",
       "      <td>ArrivalDelayGroups</td>\n",
       "      <td>10372</td>\n",
       "      <td>97.695198</td>\n",
       "    </tr>\n",
       "    <tr>\n",
       "      <th>4</th>\n",
       "      <td>AirTime</td>\n",
       "      <td>10372</td>\n",
       "      <td>97.695198</td>\n",
       "    </tr>\n",
       "    <tr>\n",
       "      <th>5</th>\n",
       "      <td>ActualElapsedTime</td>\n",
       "      <td>10372</td>\n",
       "      <td>97.695198</td>\n",
       "    </tr>\n",
       "    <tr>\n",
       "      <th>6</th>\n",
       "      <td>ArrTime</td>\n",
       "      <td>9271</td>\n",
       "      <td>97.939856</td>\n",
       "    </tr>\n",
       "    <tr>\n",
       "      <th>7</th>\n",
       "      <td>TaxiIn</td>\n",
       "      <td>9271</td>\n",
       "      <td>97.939856</td>\n",
       "    </tr>\n",
       "    <tr>\n",
       "      <th>8</th>\n",
       "      <td>WheelsOn</td>\n",
       "      <td>9271</td>\n",
       "      <td>97.939856</td>\n",
       "    </tr>\n",
       "    <tr>\n",
       "      <th>9</th>\n",
       "      <td>WheelsOff</td>\n",
       "      <td>8773</td>\n",
       "      <td>98.050518</td>\n",
       "    </tr>\n",
       "    <tr>\n",
       "      <th>10</th>\n",
       "      <td>TaxiOut</td>\n",
       "      <td>8773</td>\n",
       "      <td>98.050518</td>\n",
       "    </tr>\n",
       "    <tr>\n",
       "      <th>11</th>\n",
       "      <td>DepDelayMinutes</td>\n",
       "      <td>8541</td>\n",
       "      <td>98.102072</td>\n",
       "    </tr>\n",
       "    <tr>\n",
       "      <th>12</th>\n",
       "      <td>DepDel15</td>\n",
       "      <td>8541</td>\n",
       "      <td>98.102072</td>\n",
       "    </tr>\n",
       "    <tr>\n",
       "      <th>13</th>\n",
       "      <td>DepartureDelayGroups</td>\n",
       "      <td>8541</td>\n",
       "      <td>98.102072</td>\n",
       "    </tr>\n",
       "    <tr>\n",
       "      <th>14</th>\n",
       "      <td>DepDelay</td>\n",
       "      <td>8541</td>\n",
       "      <td>98.102072</td>\n",
       "    </tr>\n",
       "    <tr>\n",
       "      <th>15</th>\n",
       "      <td>DepTime</td>\n",
       "      <td>8541</td>\n",
       "      <td>98.102072</td>\n",
       "    </tr>\n",
       "    <tr>\n",
       "      <th>16</th>\n",
       "      <td>TailNum</td>\n",
       "      <td>639</td>\n",
       "      <td>99.858005</td>\n",
       "    </tr>\n",
       "    <tr>\n",
       "      <th>17</th>\n",
       "      <td>CRSElapsedTime</td>\n",
       "      <td>4</td>\n",
       "      <td>99.999111</td>\n",
       "    </tr>\n",
       "    <tr>\n",
       "      <th>18</th>\n",
       "      <td>DepTimeBlk</td>\n",
       "      <td>0</td>\n",
       "      <td>100.000000</td>\n",
       "    </tr>\n",
       "    <tr>\n",
       "      <th>19</th>\n",
       "      <td>DayofMonth</td>\n",
       "      <td>0</td>\n",
       "      <td>100.000000</td>\n",
       "    </tr>\n",
       "    <tr>\n",
       "      <th>20</th>\n",
       "      <td>ArrTimeBlk</td>\n",
       "      <td>0</td>\n",
       "      <td>100.000000</td>\n",
       "    </tr>\n",
       "    <tr>\n",
       "      <th>21</th>\n",
       "      <td>Cancelled</td>\n",
       "      <td>0</td>\n",
       "      <td>100.000000</td>\n",
       "    </tr>\n",
       "    <tr>\n",
       "      <th>22</th>\n",
       "      <td>Diverted</td>\n",
       "      <td>0</td>\n",
       "      <td>100.000000</td>\n",
       "    </tr>\n",
       "    <tr>\n",
       "      <th>23</th>\n",
       "      <td>Distance</td>\n",
       "      <td>0</td>\n",
       "      <td>100.000000</td>\n",
       "    </tr>\n",
       "    <tr>\n",
       "      <th>24</th>\n",
       "      <td>CRSArrTime</td>\n",
       "      <td>0</td>\n",
       "      <td>100.000000</td>\n",
       "    </tr>\n",
       "    <tr>\n",
       "      <th>25</th>\n",
       "      <td>CRSDepTime</td>\n",
       "      <td>0</td>\n",
       "      <td>100.000000</td>\n",
       "    </tr>\n",
       "    <tr>\n",
       "      <th>26</th>\n",
       "      <td>DestWac</td>\n",
       "      <td>0</td>\n",
       "      <td>100.000000</td>\n",
       "    </tr>\n",
       "    <tr>\n",
       "      <th>27</th>\n",
       "      <td>DestStateName</td>\n",
       "      <td>0</td>\n",
       "      <td>100.000000</td>\n",
       "    </tr>\n",
       "    <tr>\n",
       "      <th>28</th>\n",
       "      <td>DayOfWeek</td>\n",
       "      <td>0</td>\n",
       "      <td>100.000000</td>\n",
       "    </tr>\n",
       "    <tr>\n",
       "      <th>29</th>\n",
       "      <td>FlightDate</td>\n",
       "      <td>0</td>\n",
       "      <td>100.000000</td>\n",
       "    </tr>\n",
       "    <tr>\n",
       "      <th>30</th>\n",
       "      <td>UniqueCarrier</td>\n",
       "      <td>0</td>\n",
       "      <td>100.000000</td>\n",
       "    </tr>\n",
       "    <tr>\n",
       "      <th>31</th>\n",
       "      <td>AirlineID</td>\n",
       "      <td>0</td>\n",
       "      <td>100.000000</td>\n",
       "    </tr>\n",
       "    <tr>\n",
       "      <th>32</th>\n",
       "      <td>Carrier</td>\n",
       "      <td>0</td>\n",
       "      <td>100.000000</td>\n",
       "    </tr>\n",
       "    <tr>\n",
       "      <th>33</th>\n",
       "      <td>FlightNum</td>\n",
       "      <td>0</td>\n",
       "      <td>100.000000</td>\n",
       "    </tr>\n",
       "    <tr>\n",
       "      <th>34</th>\n",
       "      <td>OriginAirportID</td>\n",
       "      <td>0</td>\n",
       "      <td>100.000000</td>\n",
       "    </tr>\n",
       "    <tr>\n",
       "      <th>35</th>\n",
       "      <td>OriginAirportSeqID</td>\n",
       "      <td>0</td>\n",
       "      <td>100.000000</td>\n",
       "    </tr>\n",
       "    <tr>\n",
       "      <th>36</th>\n",
       "      <td>OriginCityMarketID</td>\n",
       "      <td>0</td>\n",
       "      <td>100.000000</td>\n",
       "    </tr>\n",
       "    <tr>\n",
       "      <th>37</th>\n",
       "      <td>Origin</td>\n",
       "      <td>0</td>\n",
       "      <td>100.000000</td>\n",
       "    </tr>\n",
       "    <tr>\n",
       "      <th>38</th>\n",
       "      <td>DistanceGroup</td>\n",
       "      <td>0</td>\n",
       "      <td>100.000000</td>\n",
       "    </tr>\n",
       "    <tr>\n",
       "      <th>39</th>\n",
       "      <td>OriginCityName</td>\n",
       "      <td>0</td>\n",
       "      <td>100.000000</td>\n",
       "    </tr>\n",
       "    <tr>\n",
       "      <th>40</th>\n",
       "      <td>OriginStateFips</td>\n",
       "      <td>0</td>\n",
       "      <td>100.000000</td>\n",
       "    </tr>\n",
       "    <tr>\n",
       "      <th>41</th>\n",
       "      <td>OriginStateName</td>\n",
       "      <td>0</td>\n",
       "      <td>100.000000</td>\n",
       "    </tr>\n",
       "    <tr>\n",
       "      <th>42</th>\n",
       "      <td>OriginWac</td>\n",
       "      <td>0</td>\n",
       "      <td>100.000000</td>\n",
       "    </tr>\n",
       "    <tr>\n",
       "      <th>43</th>\n",
       "      <td>DestAirportID</td>\n",
       "      <td>0</td>\n",
       "      <td>100.000000</td>\n",
       "    </tr>\n",
       "    <tr>\n",
       "      <th>44</th>\n",
       "      <td>DestAirportSeqID</td>\n",
       "      <td>0</td>\n",
       "      <td>100.000000</td>\n",
       "    </tr>\n",
       "    <tr>\n",
       "      <th>45</th>\n",
       "      <td>DestCityMarketID</td>\n",
       "      <td>0</td>\n",
       "      <td>100.000000</td>\n",
       "    </tr>\n",
       "    <tr>\n",
       "      <th>46</th>\n",
       "      <td>Dest</td>\n",
       "      <td>0</td>\n",
       "      <td>100.000000</td>\n",
       "    </tr>\n",
       "    <tr>\n",
       "      <th>47</th>\n",
       "      <td>DestCityName</td>\n",
       "      <td>0</td>\n",
       "      <td>100.000000</td>\n",
       "    </tr>\n",
       "    <tr>\n",
       "      <th>48</th>\n",
       "      <td>DestState</td>\n",
       "      <td>0</td>\n",
       "      <td>100.000000</td>\n",
       "    </tr>\n",
       "    <tr>\n",
       "      <th>49</th>\n",
       "      <td>DestStateFips</td>\n",
       "      <td>0</td>\n",
       "      <td>100.000000</td>\n",
       "    </tr>\n",
       "    <tr>\n",
       "      <th>50</th>\n",
       "      <td>OriginState</td>\n",
       "      <td>0</td>\n",
       "      <td>100.000000</td>\n",
       "    </tr>\n",
       "    <tr>\n",
       "      <th>51</th>\n",
       "      <td>DivAirportLandings</td>\n",
       "      <td>0</td>\n",
       "      <td>100.000000</td>\n",
       "    </tr>\n",
       "  </tbody>\n",
       "</table>\n",
       "</div>"
      ],
      "text/plain": [
       "                variable  missing values  filling factor (%)\n",
       "0               ArrDelay           10372           97.695198\n",
       "1        ArrDelayMinutes           10372           97.695198\n",
       "2               ArrDel15           10372           97.695198\n",
       "3     ArrivalDelayGroups           10372           97.695198\n",
       "4                AirTime           10372           97.695198\n",
       "5      ActualElapsedTime           10372           97.695198\n",
       "6                ArrTime            9271           97.939856\n",
       "7                 TaxiIn            9271           97.939856\n",
       "8               WheelsOn            9271           97.939856\n",
       "9              WheelsOff            8773           98.050518\n",
       "10               TaxiOut            8773           98.050518\n",
       "11       DepDelayMinutes            8541           98.102072\n",
       "12              DepDel15            8541           98.102072\n",
       "13  DepartureDelayGroups            8541           98.102072\n",
       "14              DepDelay            8541           98.102072\n",
       "15               DepTime            8541           98.102072\n",
       "16               TailNum             639           99.858005\n",
       "17        CRSElapsedTime               4           99.999111\n",
       "18            DepTimeBlk               0          100.000000\n",
       "19            DayofMonth               0          100.000000\n",
       "20            ArrTimeBlk               0          100.000000\n",
       "21             Cancelled               0          100.000000\n",
       "22              Diverted               0          100.000000\n",
       "23              Distance               0          100.000000\n",
       "24            CRSArrTime               0          100.000000\n",
       "25            CRSDepTime               0          100.000000\n",
       "26               DestWac               0          100.000000\n",
       "27         DestStateName               0          100.000000\n",
       "28             DayOfWeek               0          100.000000\n",
       "29            FlightDate               0          100.000000\n",
       "30         UniqueCarrier               0          100.000000\n",
       "31             AirlineID               0          100.000000\n",
       "32               Carrier               0          100.000000\n",
       "33             FlightNum               0          100.000000\n",
       "34       OriginAirportID               0          100.000000\n",
       "35    OriginAirportSeqID               0          100.000000\n",
       "36    OriginCityMarketID               0          100.000000\n",
       "37                Origin               0          100.000000\n",
       "38         DistanceGroup               0          100.000000\n",
       "39        OriginCityName               0          100.000000\n",
       "40       OriginStateFips               0          100.000000\n",
       "41       OriginStateName               0          100.000000\n",
       "42             OriginWac               0          100.000000\n",
       "43         DestAirportID               0          100.000000\n",
       "44      DestAirportSeqID               0          100.000000\n",
       "45      DestCityMarketID               0          100.000000\n",
       "46                  Dest               0          100.000000\n",
       "47          DestCityName               0          100.000000\n",
       "48             DestState               0          100.000000\n",
       "49         DestStateFips               0          100.000000\n",
       "50           OriginState               0          100.000000\n",
       "51    DivAirportLandings               0          100.000000"
      ]
     },
     "execution_count": 9,
     "metadata": {},
     "output_type": "execute_result"
    }
   ],
   "source": [
    "#i took this code from kaggle which displays filling factor\n",
    "\n",
    "missing_df = flights.isnull().sum(axis=0).reset_index()\n",
    "missing_df.columns = ['variable', 'missing values']\n",
    "missing_df['filling factor (%)']=(flights.shape[0]-missing_df['missing values'])/flights.shape[0]*100\n",
    "missing_df.sort_values('filling factor (%)').reset_index(drop = True)\n"
   ]
  },
  {
   "cell_type": "code",
   "execution_count": 10,
   "metadata": {},
   "outputs": [
    {
     "data": {
      "text/plain": [
       "(439645, 52)"
      ]
     },
     "execution_count": 10,
     "metadata": {},
     "output_type": "execute_result"
    }
   ],
   "source": [
    "flights.dropna(inplace = True)\n",
    "flights.shape"
   ]
  },
  {
   "cell_type": "code",
   "execution_count": 11,
   "metadata": {},
   "outputs": [],
   "source": [
    "#instead of have day number,i have converted it to categorical,for easy understanding\n",
    "def Impute_month(cols):\n",
    "    if cols in [1,2,3,4,5,6,7]:\n",
    "        return \"weekI\"\n",
    "\n",
    "    elif cols in [8,9,10,11,12,13,14]:\n",
    "        return \"weekII\"\n",
    "\n",
    "    elif cols in [15,16,17,18,19,20,21]:\n",
    "        return \"weekIII\"\n",
    "\n",
    "    elif cols in [22,23,24,25,26,27,28]:\n",
    "        return \"weekIV\"\n",
    "\n",
    "    else:\n",
    "        return \"weekV\"\n",
    "    \n",
    "flights['Month'] = flights[\"DayofMonth\"].apply(Impute_month)\n",
    "flights.drop(\"DayofMonth\", axis = 1, inplace = True)"
   ]
  },
  {
   "cell_type": "code",
   "execution_count": 12,
   "metadata": {},
   "outputs": [],
   "source": [
    "#same logic as above\n",
    "def Impute_week(cols):\n",
    "    if cols in [1,7]:\n",
    "        return \"Weekend\"\n",
    "\n",
    "    else:\n",
    "        return \"Weekdays\"\n",
    "    \n",
    "    \n",
    "flights['Week'] = flights[\"DayOfWeek\"].apply(Impute_week)\n",
    "flights.drop(\"DayOfWeek\", axis = 1, inplace = True)"
   ]
  },
  {
   "cell_type": "code",
   "execution_count": 13,
   "metadata": {},
   "outputs": [
    {
     "data": {
      "text/html": [
       "<div>\n",
       "<style scoped>\n",
       "    .dataframe tbody tr th:only-of-type {\n",
       "        vertical-align: middle;\n",
       "    }\n",
       "\n",
       "    .dataframe tbody tr th {\n",
       "        vertical-align: top;\n",
       "    }\n",
       "\n",
       "    .dataframe thead th {\n",
       "        text-align: right;\n",
       "    }\n",
       "</style>\n",
       "<table border=\"1\" class=\"dataframe\">\n",
       "  <thead>\n",
       "    <tr style=\"text-align: right;\">\n",
       "      <th></th>\n",
       "      <th>FlightDate</th>\n",
       "      <th>UniqueCarrier</th>\n",
       "      <th>AirlineID</th>\n",
       "      <th>Carrier</th>\n",
       "      <th>TailNum</th>\n",
       "      <th>FlightNum</th>\n",
       "      <th>OriginAirportID</th>\n",
       "      <th>OriginAirportSeqID</th>\n",
       "      <th>OriginCityMarketID</th>\n",
       "      <th>Origin</th>\n",
       "      <th>...</th>\n",
       "      <th>Cancelled</th>\n",
       "      <th>Diverted</th>\n",
       "      <th>CRSElapsedTime</th>\n",
       "      <th>ActualElapsedTime</th>\n",
       "      <th>AirTime</th>\n",
       "      <th>Distance</th>\n",
       "      <th>DistanceGroup</th>\n",
       "      <th>DivAirportLandings</th>\n",
       "      <th>Month</th>\n",
       "      <th>Week</th>\n",
       "    </tr>\n",
       "  </thead>\n",
       "  <tbody>\n",
       "    <tr>\n",
       "      <th>0</th>\n",
       "      <td>2017-01-17</td>\n",
       "      <td>AA</td>\n",
       "      <td>19805</td>\n",
       "      <td>AA</td>\n",
       "      <td>N583AA</td>\n",
       "      <td>494</td>\n",
       "      <td>11057</td>\n",
       "      <td>1105703</td>\n",
       "      <td>31057</td>\n",
       "      <td>CLT</td>\n",
       "      <td>...</td>\n",
       "      <td>0.0</td>\n",
       "      <td>0.0</td>\n",
       "      <td>277.0</td>\n",
       "      <td>266.0</td>\n",
       "      <td>244.0</td>\n",
       "      <td>1773.0</td>\n",
       "      <td>8</td>\n",
       "      <td>0</td>\n",
       "      <td>weekIII</td>\n",
       "      <td>Weekdays</td>\n",
       "    </tr>\n",
       "    <tr>\n",
       "      <th>1</th>\n",
       "      <td>2017-01-18</td>\n",
       "      <td>AA</td>\n",
       "      <td>19805</td>\n",
       "      <td>AA</td>\n",
       "      <td>N544AA</td>\n",
       "      <td>494</td>\n",
       "      <td>11057</td>\n",
       "      <td>1105703</td>\n",
       "      <td>31057</td>\n",
       "      <td>CLT</td>\n",
       "      <td>...</td>\n",
       "      <td>0.0</td>\n",
       "      <td>0.0</td>\n",
       "      <td>277.0</td>\n",
       "      <td>247.0</td>\n",
       "      <td>228.0</td>\n",
       "      <td>1773.0</td>\n",
       "      <td>8</td>\n",
       "      <td>0</td>\n",
       "      <td>weekIII</td>\n",
       "      <td>Weekdays</td>\n",
       "    </tr>\n",
       "    <tr>\n",
       "      <th>2</th>\n",
       "      <td>2017-01-19</td>\n",
       "      <td>AA</td>\n",
       "      <td>19805</td>\n",
       "      <td>AA</td>\n",
       "      <td>N553AA</td>\n",
       "      <td>494</td>\n",
       "      <td>11057</td>\n",
       "      <td>1105703</td>\n",
       "      <td>31057</td>\n",
       "      <td>CLT</td>\n",
       "      <td>...</td>\n",
       "      <td>0.0</td>\n",
       "      <td>0.0</td>\n",
       "      <td>277.0</td>\n",
       "      <td>255.0</td>\n",
       "      <td>236.0</td>\n",
       "      <td>1773.0</td>\n",
       "      <td>8</td>\n",
       "      <td>0</td>\n",
       "      <td>weekIII</td>\n",
       "      <td>Weekdays</td>\n",
       "    </tr>\n",
       "    <tr>\n",
       "      <th>3</th>\n",
       "      <td>2017-01-20</td>\n",
       "      <td>AA</td>\n",
       "      <td>19805</td>\n",
       "      <td>AA</td>\n",
       "      <td>N191AA</td>\n",
       "      <td>494</td>\n",
       "      <td>11057</td>\n",
       "      <td>1105703</td>\n",
       "      <td>31057</td>\n",
       "      <td>CLT</td>\n",
       "      <td>...</td>\n",
       "      <td>0.0</td>\n",
       "      <td>0.0</td>\n",
       "      <td>277.0</td>\n",
       "      <td>273.0</td>\n",
       "      <td>252.0</td>\n",
       "      <td>1773.0</td>\n",
       "      <td>8</td>\n",
       "      <td>0</td>\n",
       "      <td>weekIII</td>\n",
       "      <td>Weekdays</td>\n",
       "    </tr>\n",
       "    <tr>\n",
       "      <th>4</th>\n",
       "      <td>2017-01-21</td>\n",
       "      <td>AA</td>\n",
       "      <td>19805</td>\n",
       "      <td>AA</td>\n",
       "      <td>N170AA</td>\n",
       "      <td>494</td>\n",
       "      <td>11057</td>\n",
       "      <td>1105703</td>\n",
       "      <td>31057</td>\n",
       "      <td>CLT</td>\n",
       "      <td>...</td>\n",
       "      <td>0.0</td>\n",
       "      <td>0.0</td>\n",
       "      <td>277.0</td>\n",
       "      <td>266.0</td>\n",
       "      <td>245.0</td>\n",
       "      <td>1773.0</td>\n",
       "      <td>8</td>\n",
       "      <td>0</td>\n",
       "      <td>weekIII</td>\n",
       "      <td>Weekdays</td>\n",
       "    </tr>\n",
       "  </tbody>\n",
       "</table>\n",
       "<p>5 rows × 52 columns</p>\n",
       "</div>"
      ],
      "text/plain": [
       "   FlightDate UniqueCarrier  AirlineID Carrier TailNum  FlightNum  \\\n",
       "0  2017-01-17            AA      19805      AA  N583AA        494   \n",
       "1  2017-01-18            AA      19805      AA  N544AA        494   \n",
       "2  2017-01-19            AA      19805      AA  N553AA        494   \n",
       "3  2017-01-20            AA      19805      AA  N191AA        494   \n",
       "4  2017-01-21            AA      19805      AA  N170AA        494   \n",
       "\n",
       "   OriginAirportID  OriginAirportSeqID  OriginCityMarketID Origin    ...     \\\n",
       "0            11057             1105703               31057    CLT    ...      \n",
       "1            11057             1105703               31057    CLT    ...      \n",
       "2            11057             1105703               31057    CLT    ...      \n",
       "3            11057             1105703               31057    CLT    ...      \n",
       "4            11057             1105703               31057    CLT    ...      \n",
       "\n",
       "  Cancelled Diverted  CRSElapsedTime ActualElapsedTime  AirTime  Distance  \\\n",
       "0       0.0      0.0           277.0             266.0    244.0    1773.0   \n",
       "1       0.0      0.0           277.0             247.0    228.0    1773.0   \n",
       "2       0.0      0.0           277.0             255.0    236.0    1773.0   \n",
       "3       0.0      0.0           277.0             273.0    252.0    1773.0   \n",
       "4       0.0      0.0           277.0             266.0    245.0    1773.0   \n",
       "\n",
       "   DistanceGroup  DivAirportLandings    Month      Week  \n",
       "0              8                   0  weekIII  Weekdays  \n",
       "1              8                   0  weekIII  Weekdays  \n",
       "2              8                   0  weekIII  Weekdays  \n",
       "3              8                   0  weekIII  Weekdays  \n",
       "4              8                   0  weekIII  Weekdays  \n",
       "\n",
       "[5 rows x 52 columns]"
      ]
     },
     "execution_count": 13,
     "metadata": {},
     "output_type": "execute_result"
    }
   ],
   "source": [
    "flights.head()"
   ]
  },
  {
   "cell_type": "code",
   "execution_count": 14,
   "metadata": {},
   "outputs": [
    {
     "name": "stdout",
     "output_type": "stream",
     "text": [
      "Month\n",
      "weekI      30041.0\n",
      "weekII     23989.0\n",
      "weekIII    16128.0\n",
      "weekIV     16851.0\n",
      "weekV       5326.0\n",
      "Name: DepDel15, dtype: float64\n",
      "Month\n",
      "weekI       98030\n",
      "weekII      98943\n",
      "weekIII     99004\n",
      "weekIV     100142\n",
      "weekV       43526\n",
      "Name: DepDel15, dtype: int64\n",
      "             sum   count  Average number of delays\n",
      "Month                                             \n",
      "weekI    30041.0   98030                  0.306447\n",
      "weekII   23989.0   98943                  0.242453\n",
      "weekIII  16128.0   99004                  0.162903\n",
      "weekIV   16851.0  100142                  0.168271\n",
      "weekV     5326.0   43526                  0.122364\n"
     ]
    }
   ],
   "source": [
    "#exploring delays in different weeks of month\n",
    "Month_grouped1 = flights.groupby('Month')[\"DepDel15\"].sum()\n",
    "Month_grouped2 = flights.groupby('Month')[\"DepDel15\"].count()\n",
    "print(Month_grouped1)\n",
    "print(Month_grouped2)\n",
    "Month_grouped = pd.concat([Month_grouped1, Month_grouped2],axis=1, keys=[\"sum\", \"count\"])\n",
    "Month_grouped[\"Average number of delays\"] = Month_grouped[\"sum\"]/Month_grouped[\"count\"]\n",
    "print(Month_grouped)"
   ]
  },
  {
   "cell_type": "code",
   "execution_count": 15,
   "metadata": {},
   "outputs": [
    {
     "name": "stdout",
     "output_type": "stream",
     "text": [
      "Week\n",
      "Weekdays    56439.0\n",
      "Weekend     35896.0\n",
      "Name: DepDel15, dtype: float64\n",
      "Week\n",
      "Weekdays    296536\n",
      "Weekend     143109\n",
      "Name: DepDel15, dtype: int64\n",
      "              sum   count  Probability of Arrival Delay15\n",
      "Week                                                     \n",
      "Weekdays  56439.0  296536                        0.190328\n",
      "Weekend   35896.0  143109                        0.250830\n"
     ]
    }
   ],
   "source": [
    "#explore delays in weekdays and weekends\n",
    "week_grouped1 = flights.groupby('Week')[\"DepDel15\"].sum()\n",
    "week_grouped2 = flights.groupby('Week')[\"DepDel15\"].count()\n",
    "print(week_grouped1)\n",
    "print(week_grouped2)\n",
    "week_grouped = pd.concat([week_grouped1, week_grouped2],axis=1, keys=[\"sum\", \"count\"])\n",
    "week_grouped[\"Probability of Arrival Delay15\"] = week_grouped[\"sum\"]/week_grouped[\"count\"]\n",
    "print(week_grouped)"
   ]
  },
  {
   "cell_type": "code",
   "execution_count": 16,
   "metadata": {},
   "outputs": [],
   "source": [
    "#same logic as above but for orign airport\n",
    "airport_grouped1 = flights.groupby('Origin')[\"DepDel15\"].sum()\n",
    "airport_grouped2 = flights.groupby('Origin')[\"DepDel15\"].count()\n",
    "airport_grouped = pd.concat([airport_grouped1, airport_grouped2],axis=1, keys=[\"sum\", \"count\"])\n",
    "airport_grouped[\"Probability of Arrival Delay15\"] = airport_grouped[\"sum\"]/airport_grouped[\"count\"]\n",
    "airport_grouped.sort_values(by = \"Probability of Arrival Delay15\", ascending = False, inplace = True)"
   ]
  },
  {
   "cell_type": "code",
   "execution_count": 17,
   "metadata": {},
   "outputs": [],
   "source": [
    "#for destination airport\n",
    "airport_grouped3 = flights.groupby('Dest')[\"DepDel15\"].sum()\n",
    "airport_grouped4 = flights.groupby('Dest')[\"DepDel15\"].count()\n",
    "airport_grouped_dest = pd.concat([airport_grouped3, airport_grouped4],axis=1, keys=[\"sum\", \"count\"])\n",
    "airport_grouped_dest[\"Probability of Departure Delay15\"] = airport_grouped_dest[\"sum\"]/airport_grouped_dest[\"count\"]\n",
    "airport_grouped_dest.sort_values(by = \"Probability of Departure Delay15\", ascending = False, inplace = True)"
   ]
  },
  {
   "cell_type": "code",
   "execution_count": null,
   "metadata": {},
   "outputs": [],
   "source": []
  },
  {
   "cell_type": "code",
   "execution_count": 18,
   "metadata": {},
   "outputs": [
    {
     "name": "stdout",
     "output_type": "stream",
     "text": [
      "0         CLT to PHX\n",
      "1         CLT to PHX\n",
      "2         CLT to PHX\n",
      "3         CLT to PHX\n",
      "4         CLT to PHX\n",
      "5         CLT to PHX\n",
      "6         CLT to PHX\n",
      "7         CLT to PHX\n",
      "8         CLT to PHX\n",
      "9         CLT to PHX\n",
      "10        CLT to PHX\n",
      "11        CLT to PHX\n",
      "12        CLT to PHX\n",
      "13        CLT to PHX\n",
      "14        CLT to PHX\n",
      "15        FLL to CLT\n",
      "16        FLL to CLT\n",
      "17        FLL to CLT\n",
      "18        FLL to CLT\n",
      "19        FLL to CLT\n",
      "20        FLL to CLT\n",
      "21        FLL to CLT\n",
      "22        FLL to CLT\n",
      "23        FLL to CLT\n",
      "24        FLL to CLT\n",
      "25        FLL to CLT\n",
      "26        FLL to CLT\n",
      "27        FLL to CLT\n",
      "28        FLL to CLT\n",
      "29        PHX to LAS\n",
      "             ...    \n",
      "449987    CLE to MDW\n",
      "449988    CLE to PHX\n",
      "449989    CLE to STL\n",
      "449990    CLT to BNA\n",
      "449991    CLT to BWI\n",
      "449992    CLT to BWI\n",
      "449993    CLT to DAL\n",
      "449994    CLT to HOU\n",
      "449995    CLT to MDW\n",
      "449996    CLT to MDW\n",
      "449997    CMH to ATL\n",
      "449998    CMH to ATL\n",
      "449999    CMH to ATL\n",
      "450000    CMH to BNA\n",
      "450001    CMH to BNA\n",
      "450002    CMH to BOS\n",
      "450003    CMH to BOS\n",
      "450004    CMH to BWI\n",
      "450005    CMH to BWI\n",
      "450006    CMH to BWI\n",
      "450007    CMH to DAL\n",
      "450008    CMH to DCA\n",
      "450009    CMH to DCA\n",
      "450010    CMH to DEN\n",
      "450011    CMH to FLL\n",
      "450012    CMH to LAS\n",
      "450013    CMH to LAS\n",
      "450014    CMH to MCO\n",
      "450015    CMH to MCO\n",
      "450016    CMH to MCO\n",
      "Name: Flight_route, Length: 439645, dtype: object\n"
     ]
    }
   ],
   "source": [
    "#creating new attribute like 'source' to 'dest'\n",
    "flights[\"Flight_route\"] = flights[\"Origin\"] + \" to \" + flights[\"Dest\"]\n",
    "flightroute = flights.groupby('Flight_route').sum()\n",
    "flightroute.sort_values(by = \"DepDel15\", axis = 0, ascending = False, inplace = True)\n",
    "print(flights['Flight_route'])"
   ]
  },
  {
   "cell_type": "code",
   "execution_count": 19,
   "metadata": {},
   "outputs": [],
   "source": [
    "#new attribut for visualization\n",
    "def impute_time(cols):\n",
    "    if cols >= 600 and cols < 1200:\n",
    "        return \"Morning\"\n",
    "    elif cols >= 1200 and cols < 1600:\n",
    "        return \"Afternoon\"\n",
    "    else:\n",
    "        return \"Evening\"\n",
    "    \n",
    "    \n",
    "flights['Arrival_Time'] = flights[\"CRSArrTime\"].apply(impute_time)\n",
    "flights.drop(\"CRSArrTime\", axis = 1, inplace = True)"
   ]
  },
  {
   "cell_type": "code",
   "execution_count": 20,
   "metadata": {},
   "outputs": [],
   "source": [
    "#CRS time is like some computed time ,as we already have arrtime and deptime ,i think we dont need CRS time\n",
    "flights['Departure_Time'] = flights[\"CRSDepTime\"].apply(impute_time)\n",
    "flights.drop(\"CRSDepTime\", axis = 1, inplace = True)"
   ]
  },
  {
   "cell_type": "code",
   "execution_count": 21,
   "metadata": {},
   "outputs": [
    {
     "data": {
      "text/plain": [
       "Index(['FlightDate', 'UniqueCarrier', 'AirlineID', 'Carrier', 'TailNum',\n",
       "       'FlightNum', 'OriginAirportID', 'OriginAirportSeqID',\n",
       "       'OriginCityMarketID', 'Origin', 'OriginCityName', 'OriginState',\n",
       "       'OriginStateFips', 'OriginStateName', 'OriginWac', 'DestAirportID',\n",
       "       'DestAirportSeqID', 'DestCityMarketID', 'Dest', 'DestCityName',\n",
       "       'DestState', 'DestStateFips', 'DestStateName', 'DestWac', 'DepTime',\n",
       "       'DepDelay', 'DepDelayMinutes', 'DepDel15', 'DepartureDelayGroups',\n",
       "       'DepTimeBlk', 'TaxiOut', 'WheelsOff', 'WheelsOn', 'TaxiIn', 'ArrTime',\n",
       "       'ArrDelay', 'ArrDelayMinutes', 'ArrDel15', 'ArrivalDelayGroups',\n",
       "       'ArrTimeBlk', 'Cancelled', 'Diverted', 'CRSElapsedTime',\n",
       "       'ActualElapsedTime', 'AirTime', 'Distance', 'DistanceGroup',\n",
       "       'DivAirportLandings', 'Month', 'Week', 'Flight_route', 'Arrival_Time',\n",
       "       'Departure_Time'],\n",
       "      dtype='object')"
      ]
     },
     "execution_count": 21,
     "metadata": {},
     "output_type": "execute_result"
    }
   ],
   "source": [
    "flights.columns"
   ]
  },
  {
   "cell_type": "code",
   "execution_count": 22,
   "metadata": {},
   "outputs": [],
   "source": [
    "#i think these attributs\n",
    "df_clean_for_delay = flights.drop(['FlightDate', 'AirlineID', 'Carrier', 'TailNum',\n",
    "       'FlightNum', 'OriginAirportID', 'OriginAirportSeqID',\n",
    "       'OriginCityMarketID', 'OriginCityName', 'OriginState',\n",
    "       'OriginStateFips', 'OriginStateName', 'OriginWac', 'DestAirportID',\n",
    "       'DestAirportSeqID', 'DestCityMarketID', 'Dest', 'DestCityName',\n",
    "       'DestState', 'DestStateFips', 'DestStateName', 'DestWac',\n",
    "       'DepTime', 'DepDelay', 'DepDelayMinutes','ArrDel15',\n",
    "       'DepartureDelayGroups', 'DepTimeBlk', 'WheelsOff',\n",
    "       'WheelsOn', 'ArrTime', 'ArrDelay', 'ArrDelayMinutes', 'ArrivalDelayGroups', 'ArrTimeBlk', 'Cancelled', 'Diverted',\n",
    "       'CRSElapsedTime', 'ActualElapsedTime',\n",
    "       'DistanceGroup', 'DivAirportLandings', 'Flight_route', 'Arrival_Time'], axis = 1)"
   ]
  },
  {
   "cell_type": "code",
   "execution_count": 23,
   "metadata": {},
   "outputs": [
    {
     "name": "stdout",
     "output_type": "stream",
     "text": [
      "(439645, 10)\n"
     ]
    },
    {
     "data": {
      "text/plain": [
       "Index(['UniqueCarrier', 'Origin', 'DepDel15', 'TaxiOut', 'TaxiIn', 'AirTime',\n",
       "       'Distance', 'Month', 'Week', 'Departure_Time'],\n",
       "      dtype='object')"
      ]
     },
     "execution_count": 23,
     "metadata": {},
     "output_type": "execute_result"
    }
   ],
   "source": [
    "print(df_clean_for_delay.shape)\n",
    "df_clean_for_delay.columns"
   ]
  },
  {
   "cell_type": "code",
   "execution_count": 24,
   "metadata": {},
   "outputs": [],
   "source": [
    "df_clean_for_delay.drop([\"AirTime\"], axis = 1, inplace = True)\n",
    "#df_clean_for_delay.drop([\"DepDelayMinutes\"], axis = 1, inplace = True)\n"
   ]
  },
  {
   "cell_type": "code",
   "execution_count": 25,
   "metadata": {},
   "outputs": [
    {
     "name": "stdout",
     "output_type": "stream",
     "text": [
      "<class 'pandas.core.frame.DataFrame'>\n",
      "Int64Index: 439645 entries, 0 to 450016\n",
      "Data columns (total 9 columns):\n",
      "UniqueCarrier     439645 non-null object\n",
      "Origin            439645 non-null object\n",
      "DepDel15          439645 non-null float64\n",
      "TaxiOut           439645 non-null float64\n",
      "TaxiIn            439645 non-null float64\n",
      "Distance          439645 non-null float64\n",
      "Month             439645 non-null object\n",
      "Week              439645 non-null object\n",
      "Departure_Time    439645 non-null object\n",
      "dtypes: float64(4), object(5)\n",
      "memory usage: 33.5+ MB\n"
     ]
    }
   ],
   "source": [
    "df_clean_for_delay.info()"
   ]
  },
  {
   "cell_type": "code",
   "execution_count": 26,
   "metadata": {},
   "outputs": [
    {
     "name": "stdout",
     "output_type": "stream",
     "text": [
      "uniquecarrier 12\n",
      "origin 297\n",
      "month 5\n",
      "week 2\n",
      "departuretime 3\n"
     ]
    }
   ],
   "source": [
    "#print('flightdate-',len(df_clean_for_delay.FlightDate.unique()))\n",
    "print('uniquecarrier',len(df_clean_for_delay.UniqueCarrier.unique()))\n",
    "#print('carrier',len(df_clean_for_delay.Carrier.unique()))\n",
    "print('origin',len(df_clean_for_delay.Origin.unique()))\n",
    "print('month',len(df_clean_for_delay.Month.unique()))\n",
    "print('week',len(df_clean_for_delay.Week.unique()))\n",
    "#print('flghtroute',len(df_clean_for_delay.Flight_route.unique()))\n",
    "print('departuretime',len(df_clean_for_delay.Departure_Time.unique()))"
   ]
  },
  {
   "cell_type": "code",
   "execution_count": 27,
   "metadata": {},
   "outputs": [
    {
     "data": {
      "text/html": [
       "<div>\n",
       "<style scoped>\n",
       "    .dataframe tbody tr th:only-of-type {\n",
       "        vertical-align: middle;\n",
       "    }\n",
       "\n",
       "    .dataframe tbody tr th {\n",
       "        vertical-align: top;\n",
       "    }\n",
       "\n",
       "    .dataframe thead th {\n",
       "        text-align: right;\n",
       "    }\n",
       "</style>\n",
       "<table border=\"1\" class=\"dataframe\">\n",
       "  <thead>\n",
       "    <tr style=\"text-align: right;\">\n",
       "      <th></th>\n",
       "      <th>UniqueCarrier</th>\n",
       "      <th>Origin</th>\n",
       "      <th>DepDel15</th>\n",
       "      <th>TaxiOut</th>\n",
       "      <th>TaxiIn</th>\n",
       "      <th>Distance</th>\n",
       "      <th>Month</th>\n",
       "      <th>Week</th>\n",
       "      <th>Departure_Time</th>\n",
       "    </tr>\n",
       "  </thead>\n",
       "  <tbody>\n",
       "    <tr>\n",
       "      <th>0</th>\n",
       "      <td>AA</td>\n",
       "      <td>CLT</td>\n",
       "      <td>0.0</td>\n",
       "      <td>17.0</td>\n",
       "      <td>5.0</td>\n",
       "      <td>1773.0</td>\n",
       "      <td>weekIII</td>\n",
       "      <td>Weekdays</td>\n",
       "      <td>Evening</td>\n",
       "    </tr>\n",
       "    <tr>\n",
       "      <th>1</th>\n",
       "      <td>AA</td>\n",
       "      <td>CLT</td>\n",
       "      <td>0.0</td>\n",
       "      <td>13.0</td>\n",
       "      <td>6.0</td>\n",
       "      <td>1773.0</td>\n",
       "      <td>weekIII</td>\n",
       "      <td>Weekdays</td>\n",
       "      <td>Evening</td>\n",
       "    </tr>\n",
       "    <tr>\n",
       "      <th>2</th>\n",
       "      <td>AA</td>\n",
       "      <td>CLT</td>\n",
       "      <td>0.0</td>\n",
       "      <td>17.0</td>\n",
       "      <td>2.0</td>\n",
       "      <td>1773.0</td>\n",
       "      <td>weekIII</td>\n",
       "      <td>Weekdays</td>\n",
       "      <td>Evening</td>\n",
       "    </tr>\n",
       "    <tr>\n",
       "      <th>3</th>\n",
       "      <td>AA</td>\n",
       "      <td>CLT</td>\n",
       "      <td>1.0</td>\n",
       "      <td>18.0</td>\n",
       "      <td>3.0</td>\n",
       "      <td>1773.0</td>\n",
       "      <td>weekIII</td>\n",
       "      <td>Weekdays</td>\n",
       "      <td>Evening</td>\n",
       "    </tr>\n",
       "    <tr>\n",
       "      <th>4</th>\n",
       "      <td>AA</td>\n",
       "      <td>CLT</td>\n",
       "      <td>0.0</td>\n",
       "      <td>17.0</td>\n",
       "      <td>4.0</td>\n",
       "      <td>1773.0</td>\n",
       "      <td>weekIII</td>\n",
       "      <td>Weekdays</td>\n",
       "      <td>Evening</td>\n",
       "    </tr>\n",
       "  </tbody>\n",
       "</table>\n",
       "</div>"
      ],
      "text/plain": [
       "  UniqueCarrier Origin  DepDel15  TaxiOut  TaxiIn  Distance    Month  \\\n",
       "0            AA    CLT       0.0     17.0     5.0    1773.0  weekIII   \n",
       "1            AA    CLT       0.0     13.0     6.0    1773.0  weekIII   \n",
       "2            AA    CLT       0.0     17.0     2.0    1773.0  weekIII   \n",
       "3            AA    CLT       1.0     18.0     3.0    1773.0  weekIII   \n",
       "4            AA    CLT       0.0     17.0     4.0    1773.0  weekIII   \n",
       "\n",
       "       Week Departure_Time  \n",
       "0  Weekdays        Evening  \n",
       "1  Weekdays        Evening  \n",
       "2  Weekdays        Evening  \n",
       "3  Weekdays        Evening  \n",
       "4  Weekdays        Evening  "
      ]
     },
     "execution_count": 27,
     "metadata": {},
     "output_type": "execute_result"
    }
   ],
   "source": [
    "df_clean_for_delay.head()"
   ]
  },
  {
   "cell_type": "code",
   "execution_count": 28,
   "metadata": {},
   "outputs": [],
   "source": [
    "indicator_var = pd.DataFrame()\n",
    "categories = ['UniqueCarrier', 'Origin', 'Month', 'Week', 'Departure_Time']"
   ]
  },
  {
   "cell_type": "code",
   "execution_count": 29,
   "metadata": {},
   "outputs": [],
   "source": [
    "for i in categories:\n",
    "    x = pd.get_dummies(df_clean_for_delay[i],drop_first=True)\n",
    "    indicator_var = pd.concat([indicator_var, x],axis=1)"
   ]
  },
  {
   "cell_type": "code",
   "execution_count": 30,
   "metadata": {},
   "outputs": [],
   "source": [
    "df_clean_for_delay.drop(['UniqueCarrier', 'Origin','Month', 'Week', \"Departure_Time\"], axis = 1, inplace = True)"
   ]
  },
  {
   "cell_type": "code",
   "execution_count": 31,
   "metadata": {},
   "outputs": [],
   "source": [
    "final_data_delay = pd.concat([indicator_var, df_clean_for_delay],axis=1)"
   ]
  },
  {
   "cell_type": "code",
   "execution_count": 32,
   "metadata": {},
   "outputs": [
    {
     "data": {
      "text/plain": [
       "Index(['AS', 'B6', 'DL', 'EV', 'F9', 'HA', 'NK', 'OO', 'UA', 'VX',\n",
       "       ...\n",
       "       'weekIII', 'weekIV', 'weekV', 'Weekend', 'Evening', 'Morning',\n",
       "       'DepDel15', 'TaxiOut', 'TaxiIn', 'Distance'],\n",
       "      dtype='object', length=318)"
      ]
     },
     "execution_count": 32,
     "metadata": {},
     "output_type": "execute_result"
    }
   ],
   "source": [
    "final_data_delay.columns"
   ]
  },
  {
   "cell_type": "code",
   "execution_count": 33,
   "metadata": {},
   "outputs": [],
   "source": [
    "features = []\n",
    "for i in final_data_delay.columns:\n",
    "    if i != \"DepDel15\":\n",
    "        features.append(i)"
   ]
  },
  {
   "cell_type": "code",
   "execution_count": 34,
   "metadata": {},
   "outputs": [
    {
     "name": "stderr",
     "output_type": "stream",
     "text": [
      "C:\\Anaconda\\lib\\site-packages\\sklearn\\cross_validation.py:41: DeprecationWarning: This module was deprecated in version 0.18 in favor of the model_selection module into which all the refactored classes and functions are moved. Also note that the interface of the new CV iterators are different from that of this module. This module will be removed in 0.20.\n",
      "  \"This module will be removed in 0.20.\", DeprecationWarning)\n"
     ]
    }
   ],
   "source": [
    " from sklearn.tree import DecisionTreeClassifier\n",
    "from sklearn.cross_validation import train_test_split"
   ]
  },
  {
   "cell_type": "code",
   "execution_count": 57,
   "metadata": {},
   "outputs": [],
   "source": [
    "X=final_data_delay[features]\n",
    "y=final_data_delay['DepDel15']\n"
   ]
  },
  {
   "cell_type": "code",
   "execution_count": 36,
   "metadata": {},
   "outputs": [],
   "source": [
    "X_train, X_test, y_train, y_test = train_test_split(X, y, train_size=0.70, random_state=0)"
   ]
  },
  {
   "cell_type": "code",
   "execution_count": 37,
   "metadata": {},
   "outputs": [],
   "source": [
    "dtc = DecisionTreeClassifier(random_state=0)\n",
    "dtc.fit(X_train, y_train)\n",
    "y_pred_class = dtc.predict(X_test)"
   ]
  },
  {
   "cell_type": "code",
   "execution_count": 38,
   "metadata": {},
   "outputs": [
    {
     "data": {
      "text/plain": [
       "0.71358060260512235"
      ]
     },
     "execution_count": 38,
     "metadata": {},
     "output_type": "execute_result"
    }
   ],
   "source": [
    "from sklearn import metrics\n",
    "metrics.accuracy_score(y_test, y_pred_class)"
   ]
  },
  {
   "cell_type": "code",
   "execution_count": 39,
   "metadata": {},
   "outputs": [
    {
     "data": {
      "text/plain": [
       "0.71358060260512235"
      ]
     },
     "execution_count": 39,
     "metadata": {},
     "output_type": "execute_result"
    }
   ],
   "source": [
    "dtc = DecisionTreeClassifier(min_samples_split=4, random_state=0)\n",
    "dtc.fit(X_train, y_train)\n",
    "metrics.accuracy_score(y_test, y_pred_class)"
   ]
  },
  {
   "cell_type": "code",
   "execution_count": null,
   "metadata": {},
   "outputs": [],
   "source": []
  },
  {
   "cell_type": "code",
   "execution_count": 40,
   "metadata": {},
   "outputs": [
    {
     "name": "stderr",
     "output_type": "stream",
     "text": [
      "C:\\Anaconda\\lib\\site-packages\\sklearn\\grid_search.py:42: DeprecationWarning: This module was deprecated in version 0.18 in favor of the model_selection module into which all the refactored classes and functions are moved. This module will be removed in 0.20.\n",
      "  DeprecationWarning)\n"
     ]
    }
   ],
   "source": [
    "from sklearn.grid_search import GridSearchCV"
   ]
  },
  {
   "cell_type": "code",
   "execution_count": 41,
   "metadata": {},
   "outputs": [
    {
     "data": {
      "text/plain": [
       "GridSearchCV(cv=10, error_score='raise',\n",
       "       estimator=DecisionTreeClassifier(class_weight=None, criterion='gini', max_depth=None,\n",
       "            max_features=None, max_leaf_nodes=None,\n",
       "            min_impurity_decrease=0.0, min_impurity_split=None,\n",
       "            min_samples_leaf=1, min_samples_split=4,\n",
       "            min_weight_fraction_leaf=0.0, presort=False, random_state=0,\n",
       "            splitter='best'),\n",
       "       fit_params={}, iid=True, n_jobs=1,\n",
       "       param_grid={'max_depth': [1, 2, 3, 4, 5, 6, 7, 8, 9]},\n",
       "       pre_dispatch='2*n_jobs', refit=True, scoring='accuracy', verbose=0)"
      ]
     },
     "execution_count": 41,
     "metadata": {},
     "output_type": "execute_result"
    }
   ],
   "source": [
    "\n",
    "#sample_split_range = list(range(1, 50))\n",
    "param_grid = {\"max_depth\": list(range(1,10,1))}\n",
    "grid = GridSearchCV(dtc, param_grid, cv=10, scoring='accuracy')\n",
    "grid.fit(X_train, y_train)"
   ]
  },
  {
   "cell_type": "code",
   "execution_count": 42,
   "metadata": {},
   "outputs": [
    {
     "name": "stdout",
     "output_type": "stream",
     "text": [
      "0.7940412866245764\n",
      "{'max_depth': 9}\n",
      "DecisionTreeClassifier(class_weight=None, criterion='gini', max_depth=9,\n",
      "            max_features=None, max_leaf_nodes=None,\n",
      "            min_impurity_decrease=0.0, min_impurity_split=None,\n",
      "            min_samples_leaf=1, min_samples_split=4,\n",
      "            min_weight_fraction_leaf=0.0, presort=False, random_state=0,\n",
      "            splitter='best')\n"
     ]
    }
   ],
   "source": [
    "print(grid.best_score_)\n",
    "print(grid.best_params_)\n",
    "print(grid.best_estimator_)"
   ]
  },
  {
   "cell_type": "code",
   "execution_count": 43,
   "metadata": {},
   "outputs": [
    {
     "data": {
      "text/plain": [
       "GridSearchCV(cv=10, error_score='raise',\n",
       "       estimator=DecisionTreeClassifier(class_weight=None, criterion='gini', max_depth=None,\n",
       "            max_features=None, max_leaf_nodes=None,\n",
       "            min_impurity_decrease=0.0, min_impurity_split=None,\n",
       "            min_samples_leaf=1, min_samples_split=4,\n",
       "            min_weight_fraction_leaf=0.0, presort=False, random_state=0,\n",
       "            splitter='best'),\n",
       "       fit_params={}, iid=True, n_jobs=1,\n",
       "       param_grid={'criterion': ['entropy'], 'max_depth': [1, 2, 3, 4, 5, 6, 7, 8, 9]},\n",
       "       pre_dispatch='2*n_jobs', refit=True, scoring='accuracy', verbose=0)"
      ]
     },
     "execution_count": 43,
     "metadata": {},
     "output_type": "execute_result"
    }
   ],
   "source": [
    "param_grid = {\"criterion\": ['entropy'],  \"max_depth\": list(range(1,10,1))}\n",
    "grid = GridSearchCV(dtc, param_grid, cv=10, scoring='accuracy')\n",
    "grid.fit(X_train, y_train)\n"
   ]
  },
  {
   "cell_type": "code",
   "execution_count": 44,
   "metadata": {},
   "outputs": [
    {
     "name": "stdout",
     "output_type": "stream",
     "text": [
      "0.7940282891038535\n",
      "{'criterion': 'entropy', 'max_depth': 9}\n",
      "DecisionTreeClassifier(class_weight=None, criterion='entropy', max_depth=9,\n",
      "            max_features=None, max_leaf_nodes=None,\n",
      "            min_impurity_decrease=0.0, min_impurity_split=None,\n",
      "            min_samples_leaf=1, min_samples_split=4,\n",
      "            min_weight_fraction_leaf=0.0, presort=False, random_state=0,\n",
      "            splitter='best')\n"
     ]
    }
   ],
   "source": [
    "print(grid.best_score_)\n",
    "print(grid.best_params_)\n",
    "print(grid.best_estimator_)"
   ]
  },
  {
   "cell_type": "code",
   "execution_count": 45,
   "metadata": {},
   "outputs": [
    {
     "data": {
      "text/plain": [
       "0.7272279254552898"
      ]
     },
     "execution_count": 45,
     "metadata": {},
     "output_type": "execute_result"
    }
   ],
   "source": [
    "from sklearn.ensemble import RandomForestClassifier\n",
    "rfc = RandomForestClassifier(random_state=0)\n",
    "rfc.fit(X_train, y_train)\n",
    "y_pred_class = dtc.predict(X_test)\n",
    "metrics.accuracy_score(y_test, y_pred_class)"
   ]
  },
  {
   "cell_type": "code",
   "execution_count": 46,
   "metadata": {},
   "outputs": [
    {
     "data": {
      "text/plain": [
       "GridSearchCV(cv=10, error_score='raise',\n",
       "       estimator=RandomForestClassifier(bootstrap=True, class_weight=None, criterion='gini',\n",
       "            max_depth=None, max_features='auto', max_leaf_nodes=None,\n",
       "            min_impurity_decrease=0.0, min_impurity_split=None,\n",
       "            min_samples_leaf=1, min_samples_split=2,\n",
       "            min_weight_fraction_leaf=0.0, n_estimators=10, n_jobs=1,\n",
       "            oob_score=False, random_state=0, verbose=0, warm_start=False),\n",
       "       fit_params={}, iid=True, n_jobs=1,\n",
       "       param_grid={'max_depth': [1, 2, 3, 4, 5, 6, 7, 8, 9]},\n",
       "       pre_dispatch='2*n_jobs', refit=True, scoring='accuracy', verbose=0)"
      ]
     },
     "execution_count": 46,
     "metadata": {},
     "output_type": "execute_result"
    }
   ],
   "source": [
    "param_grid = {\"max_depth\": list(range(1,10,1))}\n",
    "grid = GridSearchCV(rfc, param_grid, cv=10, scoring='accuracy')\n",
    "grid.fit(X_train, y_train)"
   ]
  },
  {
   "cell_type": "code",
   "execution_count": 47,
   "metadata": {},
   "outputs": [
    {
     "name": "stdout",
     "output_type": "stream",
     "text": [
      "0.7899015762743257\n",
      "{'max_depth': 1}\n",
      "RandomForestClassifier(bootstrap=True, class_weight=None, criterion='gini',\n",
      "            max_depth=1, max_features='auto', max_leaf_nodes=None,\n",
      "            min_impurity_decrease=0.0, min_impurity_split=None,\n",
      "            min_samples_leaf=1, min_samples_split=2,\n",
      "            min_weight_fraction_leaf=0.0, n_estimators=10, n_jobs=1,\n",
      "            oob_score=False, random_state=0, verbose=0, warm_start=False)\n"
     ]
    }
   ],
   "source": [
    "print(grid.best_score_)\n",
    "print(grid.best_params_)\n",
    "print(grid.best_estimator_)"
   ]
  },
  {
   "cell_type": "code",
   "execution_count": 48,
   "metadata": {},
   "outputs": [],
   "source": [
    "signi_features = list(zip(features, rfc.feature_importances_))"
   ]
  },
  {
   "cell_type": "code",
   "execution_count": 49,
   "metadata": {},
   "outputs": [
    {
     "data": {
      "text/html": [
       "<div>\n",
       "<style scoped>\n",
       "    .dataframe tbody tr th:only-of-type {\n",
       "        vertical-align: middle;\n",
       "    }\n",
       "\n",
       "    .dataframe tbody tr th {\n",
       "        vertical-align: top;\n",
       "    }\n",
       "\n",
       "    .dataframe thead th {\n",
       "        text-align: right;\n",
       "    }\n",
       "</style>\n",
       "<table border=\"1\" class=\"dataframe\">\n",
       "  <thead>\n",
       "    <tr style=\"text-align: right;\">\n",
       "      <th></th>\n",
       "      <th>features</th>\n",
       "      <th>importance</th>\n",
       "    </tr>\n",
       "  </thead>\n",
       "  <tbody>\n",
       "    <tr>\n",
       "      <th>314</th>\n",
       "      <td>TaxiOut</td>\n",
       "      <td>0.248904</td>\n",
       "    </tr>\n",
       "    <tr>\n",
       "      <th>316</th>\n",
       "      <td>Distance</td>\n",
       "      <td>0.236655</td>\n",
       "    </tr>\n",
       "    <tr>\n",
       "      <th>315</th>\n",
       "      <td>TaxiIn</td>\n",
       "      <td>0.189893</td>\n",
       "    </tr>\n",
       "    <tr>\n",
       "      <th>311</th>\n",
       "      <td>Weekend</td>\n",
       "      <td>0.029191</td>\n",
       "    </tr>\n",
       "    <tr>\n",
       "      <th>313</th>\n",
       "      <td>Morning</td>\n",
       "      <td>0.018194</td>\n",
       "    </tr>\n",
       "    <tr>\n",
       "      <th>307</th>\n",
       "      <td>weekII</td>\n",
       "      <td>0.015896</td>\n",
       "    </tr>\n",
       "    <tr>\n",
       "      <th>312</th>\n",
       "      <td>Evening</td>\n",
       "      <td>0.014662</td>\n",
       "    </tr>\n",
       "    <tr>\n",
       "      <th>310</th>\n",
       "      <td>weekV</td>\n",
       "      <td>0.013902</td>\n",
       "    </tr>\n",
       "    <tr>\n",
       "      <th>308</th>\n",
       "      <td>weekIII</td>\n",
       "      <td>0.012719</td>\n",
       "    </tr>\n",
       "    <tr>\n",
       "      <th>309</th>\n",
       "      <td>weekIV</td>\n",
       "      <td>0.012638</td>\n",
       "    </tr>\n",
       "    <tr>\n",
       "      <th>8</th>\n",
       "      <td>UA</td>\n",
       "      <td>0.006033</td>\n",
       "    </tr>\n",
       "    <tr>\n",
       "      <th>10</th>\n",
       "      <td>WN</td>\n",
       "      <td>0.005751</td>\n",
       "    </tr>\n",
       "    <tr>\n",
       "      <th>170</th>\n",
       "      <td>LAX</td>\n",
       "      <td>0.005599</td>\n",
       "    </tr>\n",
       "    <tr>\n",
       "      <th>2</th>\n",
       "      <td>DL</td>\n",
       "      <td>0.005254</td>\n",
       "    </tr>\n",
       "    <tr>\n",
       "      <th>7</th>\n",
       "      <td>OO</td>\n",
       "      <td>0.004747</td>\n",
       "    </tr>\n",
       "    <tr>\n",
       "      <th>27</th>\n",
       "      <td>ATL</td>\n",
       "      <td>0.004365</td>\n",
       "    </tr>\n",
       "    <tr>\n",
       "      <th>1</th>\n",
       "      <td>B6</td>\n",
       "      <td>0.004064</td>\n",
       "    </tr>\n",
       "    <tr>\n",
       "      <th>3</th>\n",
       "      <td>EV</td>\n",
       "      <td>0.003908</td>\n",
       "    </tr>\n",
       "    <tr>\n",
       "      <th>104</th>\n",
       "      <td>EWR</td>\n",
       "      <td>0.003503</td>\n",
       "    </tr>\n",
       "    <tr>\n",
       "      <th>220</th>\n",
       "      <td>ORD</td>\n",
       "      <td>0.003433</td>\n",
       "    </tr>\n",
       "    <tr>\n",
       "      <th>85</th>\n",
       "      <td>DEN</td>\n",
       "      <td>0.003406</td>\n",
       "    </tr>\n",
       "    <tr>\n",
       "      <th>6</th>\n",
       "      <td>NK</td>\n",
       "      <td>0.003316</td>\n",
       "    </tr>\n",
       "    <tr>\n",
       "      <th>168</th>\n",
       "      <td>LAS</td>\n",
       "      <td>0.003284</td>\n",
       "    </tr>\n",
       "    <tr>\n",
       "      <th>232</th>\n",
       "      <td>PHX</td>\n",
       "      <td>0.003161</td>\n",
       "    </tr>\n",
       "    <tr>\n",
       "      <th>270</th>\n",
       "      <td>SFO</td>\n",
       "      <td>0.003042</td>\n",
       "    </tr>\n",
       "    <tr>\n",
       "      <th>278</th>\n",
       "      <td>SLC</td>\n",
       "      <td>0.003016</td>\n",
       "    </tr>\n",
       "    <tr>\n",
       "      <th>91</th>\n",
       "      <td>DTW</td>\n",
       "      <td>0.002985</td>\n",
       "    </tr>\n",
       "    <tr>\n",
       "      <th>187</th>\n",
       "      <td>MCO</td>\n",
       "      <td>0.002865</td>\n",
       "    </tr>\n",
       "    <tr>\n",
       "      <th>260</th>\n",
       "      <td>SAN</td>\n",
       "      <td>0.002862</td>\n",
       "    </tr>\n",
       "    <tr>\n",
       "      <th>209</th>\n",
       "      <td>MSP</td>\n",
       "      <td>0.002832</td>\n",
       "    </tr>\n",
       "  </tbody>\n",
       "</table>\n",
       "</div>"
      ],
      "text/plain": [
       "     features  importance\n",
       "314   TaxiOut    0.248904\n",
       "316  Distance    0.236655\n",
       "315    TaxiIn    0.189893\n",
       "311   Weekend    0.029191\n",
       "313   Morning    0.018194\n",
       "307    weekII    0.015896\n",
       "312   Evening    0.014662\n",
       "310     weekV    0.013902\n",
       "308   weekIII    0.012719\n",
       "309    weekIV    0.012638\n",
       "8          UA    0.006033\n",
       "10         WN    0.005751\n",
       "170       LAX    0.005599\n",
       "2          DL    0.005254\n",
       "7          OO    0.004747\n",
       "27        ATL    0.004365\n",
       "1          B6    0.004064\n",
       "3          EV    0.003908\n",
       "104       EWR    0.003503\n",
       "220       ORD    0.003433\n",
       "85        DEN    0.003406\n",
       "6          NK    0.003316\n",
       "168       LAS    0.003284\n",
       "232       PHX    0.003161\n",
       "270       SFO    0.003042\n",
       "278       SLC    0.003016\n",
       "91        DTW    0.002985\n",
       "187       MCO    0.002865\n",
       "260       SAN    0.002862\n",
       "209       MSP    0.002832"
      ]
     },
     "execution_count": 49,
     "metadata": {},
     "output_type": "execute_result"
    }
   ],
   "source": [
    "signi_features = pd.DataFrame(signi_features, columns = [\"features\", \"importance\"])\n",
    "signi_features.sort_values([\"importance\"], ascending = False, inplace = True)\n",
    "signi_features[:30]"
   ]
  },
  {
   "cell_type": "code",
   "execution_count": 51,
   "metadata": {},
   "outputs": [],
   "source": [
    "features1=['TaxiOut','Distance','TaxiIn']\n",
    "X1=final_data_delay[features1]\n",
    "y1=final_data_delay['DepDel15']"
   ]
  },
  {
   "cell_type": "code",
   "execution_count": 58,
   "metadata": {},
   "outputs": [],
   "source": [
    "X1_train, X1_test, y1_train, y1_test = train_test_split(X1, y1, train_size=0.70, random_state=0)\n"
   ]
  },
  {
   "cell_type": "code",
   "execution_count": 59,
   "metadata": {},
   "outputs": [
    {
     "data": {
      "text/plain": [
       "0.72635601316208476"
      ]
     },
     "execution_count": 59,
     "metadata": {},
     "output_type": "execute_result"
    }
   ],
   "source": [
    "dtc1 = DecisionTreeClassifier(random_state=0)\n",
    "dtc1.fit(X1_train, y1_train)\n",
    "y1_pred_class = dtc1.predict(X1_test)\n",
    "metrics.accuracy_score(y1_test, y1_pred_class)"
   ]
  },
  {
   "cell_type": "code",
   "execution_count": 60,
   "metadata": {},
   "outputs": [
    {
     "data": {
      "text/plain": [
       "GridSearchCV(cv=10, error_score='raise',\n",
       "       estimator=DecisionTreeClassifier(class_weight=None, criterion='gini', max_depth=None,\n",
       "            max_features=None, max_leaf_nodes=None,\n",
       "            min_impurity_decrease=0.0, min_impurity_split=None,\n",
       "            min_samples_leaf=1, min_samples_split=2,\n",
       "            min_weight_fraction_leaf=0.0, presort=False, random_state=0,\n",
       "            splitter='best'),\n",
       "       fit_params={}, iid=True, n_jobs=1,\n",
       "       param_grid={'max_depth': [1, 2, 3, 4, 5, 6, 7, 8, 9]},\n",
       "       pre_dispatch='2*n_jobs', refit=True, scoring='accuracy', verbose=0)"
      ]
     },
     "execution_count": 60,
     "metadata": {},
     "output_type": "execute_result"
    }
   ],
   "source": [
    "param_grid = {\"max_depth\": list(range(1,10,1))}\n",
    "grid = GridSearchCV(dtc1, param_grid, cv=10, scoring='accuracy')\n",
    "grid.fit(X1_train, y1_train)"
   ]
  },
  {
   "cell_type": "code",
   "execution_count": 61,
   "metadata": {},
   "outputs": [
    {
     "name": "stdout",
     "output_type": "stream",
     "text": [
      "0.789969813258121\n",
      "{'max_depth': 3}\n",
      "DecisionTreeClassifier(class_weight=None, criterion='gini', max_depth=3,\n",
      "            max_features=None, max_leaf_nodes=None,\n",
      "            min_impurity_decrease=0.0, min_impurity_split=None,\n",
      "            min_samples_leaf=1, min_samples_split=2,\n",
      "            min_weight_fraction_leaf=0.0, presort=False, random_state=0,\n",
      "            splitter='best')\n"
     ]
    }
   ],
   "source": [
    "print(grid.best_score_)\n",
    "print(grid.best_params_)\n",
    "print(grid.best_estimator_)"
   ]
  },
  {
   "cell_type": "code",
   "execution_count": 62,
   "metadata": {},
   "outputs": [
    {
     "data": {
      "text/plain": [
       "GridSearchCV(cv=10, error_score='raise',\n",
       "       estimator=DecisionTreeClassifier(class_weight=None, criterion='gini', max_depth=None,\n",
       "            max_features=None, max_leaf_nodes=None,\n",
       "            min_impurity_decrease=0.0, min_impurity_split=None,\n",
       "            min_samples_leaf=1, min_samples_split=2,\n",
       "            min_weight_fraction_leaf=0.0, presort=False, random_state=0,\n",
       "            splitter='best'),\n",
       "       fit_params={}, iid=True, n_jobs=1,\n",
       "       param_grid={'criterion': ['entropy'], 'max_depth': [1, 2, 3, 4, 5, 6, 7, 8, 9]},\n",
       "       pre_dispatch='2*n_jobs', refit=True, scoring='accuracy', verbose=0)"
      ]
     },
     "execution_count": 62,
     "metadata": {},
     "output_type": "execute_result"
    }
   ],
   "source": [
    "param_grid = {\"criterion\": ['entropy'],  \"max_depth\": list(range(1,10,1))}\n",
    "grid = GridSearchCV(dtc1, param_grid, cv=10, scoring='accuracy')\n",
    "grid.fit(X1_train, y1_train)"
   ]
  },
  {
   "cell_type": "code",
   "execution_count": 63,
   "metadata": {},
   "outputs": [
    {
     "name": "stdout",
     "output_type": "stream",
     "text": [
      "0.7899730626383017\n",
      "{'criterion': 'entropy', 'max_depth': 4}\n",
      "DecisionTreeClassifier(class_weight=None, criterion='entropy', max_depth=4,\n",
      "            max_features=None, max_leaf_nodes=None,\n",
      "            min_impurity_decrease=0.0, min_impurity_split=None,\n",
      "            min_samples_leaf=1, min_samples_split=2,\n",
      "            min_weight_fraction_leaf=0.0, presort=False, random_state=0,\n",
      "            splitter='best')\n"
     ]
    }
   ],
   "source": [
    "print(grid.best_score_)\n",
    "print(grid.best_params_)\n",
    "print(grid.best_estimator_)"
   ]
  },
  {
   "cell_type": "code",
   "execution_count": 64,
   "metadata": {},
   "outputs": [
    {
     "data": {
      "text/plain": [
       "0.72554475563710252"
      ]
     },
     "execution_count": 64,
     "metadata": {},
     "output_type": "execute_result"
    }
   ],
   "source": [
    "rfc1 = RandomForestClassifier(random_state=0)\n",
    "rfc1.fit(X1_train, y1_train)\n",
    "y_pred_class1 = rfc1.predict(X1_test)\n",
    "metrics.accuracy_score(y1_test, y_pred_class1)"
   ]
  },
  {
   "cell_type": "code",
   "execution_count": 65,
   "metadata": {},
   "outputs": [
    {
     "data": {
      "text/plain": [
       "GridSearchCV(cv=10, error_score='raise',\n",
       "       estimator=RandomForestClassifier(bootstrap=True, class_weight=None, criterion='gini',\n",
       "            max_depth=None, max_features='auto', max_leaf_nodes=None,\n",
       "            min_impurity_decrease=0.0, min_impurity_split=None,\n",
       "            min_samples_leaf=1, min_samples_split=2,\n",
       "            min_weight_fraction_leaf=0.0, n_estimators=10, n_jobs=1,\n",
       "            oob_score=False, random_state=0, verbose=0, warm_start=False),\n",
       "       fit_params={}, iid=True, n_jobs=1,\n",
       "       param_grid={'max_depth': [1, 2, 3, 4, 5, 6, 7, 8, 9]},\n",
       "       pre_dispatch='2*n_jobs', refit=True, scoring='accuracy', verbose=0)"
      ]
     },
     "execution_count": 65,
     "metadata": {},
     "output_type": "execute_result"
    }
   ],
   "source": [
    "param_grid = {\"max_depth\": list(range(1,10,1))}\n",
    "grid = GridSearchCV(rfc1, param_grid, cv=10, scoring='accuracy')\n",
    "grid.fit(X1_train, y1_train)"
   ]
  },
  {
   "cell_type": "code",
   "execution_count": 66,
   "metadata": {},
   "outputs": [
    {
     "name": "stdout",
     "output_type": "stream",
     "text": [
      "0.7900023070599284\n",
      "{'max_depth': 8}\n",
      "RandomForestClassifier(bootstrap=True, class_weight=None, criterion='gini',\n",
      "            max_depth=8, max_features='auto', max_leaf_nodes=None,\n",
      "            min_impurity_decrease=0.0, min_impurity_split=None,\n",
      "            min_samples_leaf=1, min_samples_split=2,\n",
      "            min_weight_fraction_leaf=0.0, n_estimators=10, n_jobs=1,\n",
      "            oob_score=False, random_state=0, verbose=0, warm_start=False)\n"
     ]
    }
   ],
   "source": [
    "print(grid.best_score_)\n",
    "print(grid.best_params_)\n",
    "print(grid.best_estimator_)"
   ]
  },
  {
   "cell_type": "code",
   "execution_count": 67,
   "metadata": {},
   "outputs": [],
   "source": [
    "import sklearn.feature_selection\n",
    "\n",
    "select = sklearn.feature_selection.SelectKBest(k=12)\n",
    "selected_features = select.fit(X_train, y_train)\n",
    "indices_selected = selected_features.get_support(indices=True)\n",
    "colnames_selected = [X.columns[i] for i in indices_selected]\n",
    "\n",
    "X_train_selected = X_train[colnames_selected]\n",
    "X_test_selected = X_test[colnames_selected]"
   ]
  },
  {
   "cell_type": "code",
   "execution_count": 68,
   "metadata": {},
   "outputs": [
    {
     "data": {
      "text/plain": [
       "0.79152197977163474"
      ]
     },
     "execution_count": 68,
     "metadata": {},
     "output_type": "execute_result"
    }
   ],
   "source": [
    "dtc = DecisionTreeClassifier(random_state=0)\n",
    "dtc.fit(X_train_selected, y_train)\n",
    "y_pred_class = dtc.predict(X_test_selected)\n",
    "metrics.accuracy_score(y_test, y_pred_class)"
   ]
  },
  {
   "cell_type": "code",
   "execution_count": 69,
   "metadata": {},
   "outputs": [
    {
     "data": {
      "text/plain": [
       "GridSearchCV(cv=10, error_score='raise',\n",
       "       estimator=DecisionTreeClassifier(class_weight=None, criterion='gini', max_depth=None,\n",
       "            max_features=None, max_leaf_nodes=None,\n",
       "            min_impurity_decrease=0.0, min_impurity_split=None,\n",
       "            min_samples_leaf=1, min_samples_split=2,\n",
       "            min_weight_fraction_leaf=0.0, presort=False, random_state=0,\n",
       "            splitter='best'),\n",
       "       fit_params={}, iid=True, n_jobs=1,\n",
       "       param_grid={'max_depth': [1, 2, 3, 4, 5, 6, 7, 8, 9]},\n",
       "       pre_dispatch='2*n_jobs', refit=True, scoring='accuracy', verbose=0)"
      ]
     },
     "execution_count": 69,
     "metadata": {},
     "output_type": "execute_result"
    }
   ],
   "source": [
    "param_grid = {\"max_depth\": list(range(1,10,1))}\n",
    "grid = GridSearchCV(dtc, param_grid, cv=10, scoring='accuracy')\n",
    "grid.fit(X_train_selected, y_train)"
   ]
  },
  {
   "cell_type": "code",
   "execution_count": 70,
   "metadata": {},
   "outputs": [
    {
     "name": "stdout",
     "output_type": "stream",
     "text": [
      "0.7922541275251745\n",
      "{'max_depth': 9}\n",
      "DecisionTreeClassifier(class_weight=None, criterion='gini', max_depth=9,\n",
      "            max_features=None, max_leaf_nodes=None,\n",
      "            min_impurity_decrease=0.0, min_impurity_split=None,\n",
      "            min_samples_leaf=1, min_samples_split=2,\n",
      "            min_weight_fraction_leaf=0.0, presort=False, random_state=0,\n",
      "            splitter='best')\n"
     ]
    }
   ],
   "source": [
    "print(grid.best_score_)\n",
    "print(grid.best_params_)\n",
    "print(grid.best_estimator_)"
   ]
  },
  {
   "cell_type": "code",
   "execution_count": 71,
   "metadata": {},
   "outputs": [
    {
     "data": {
      "text/plain": [
       "GridSearchCV(cv=10, error_score='raise',\n",
       "       estimator=DecisionTreeClassifier(class_weight=None, criterion='gini', max_depth=None,\n",
       "            max_features=None, max_leaf_nodes=None,\n",
       "            min_impurity_decrease=0.0, min_impurity_split=None,\n",
       "            min_samples_leaf=1, min_samples_split=2,\n",
       "            min_weight_fraction_leaf=0.0, presort=False, random_state=0,\n",
       "            splitter='best'),\n",
       "       fit_params={}, iid=True, n_jobs=1,\n",
       "       param_grid={'criterion': ['entropy'], 'max_depth': [1, 2, 3, 4, 5, 6, 7, 8, 9]},\n",
       "       pre_dispatch='2*n_jobs', refit=True, scoring='accuracy', verbose=0)"
      ]
     },
     "execution_count": 71,
     "metadata": {},
     "output_type": "execute_result"
    }
   ],
   "source": [
    "param_grid = {\"criterion\": ['entropy'],  \"max_depth\": list(range(1,10,1))}\n",
    "grid = GridSearchCV(dtc, param_grid, cv=10, scoring='accuracy')\n",
    "grid.fit(X_train_selected, y_train)"
   ]
  },
  {
   "cell_type": "code",
   "execution_count": 72,
   "metadata": {},
   "outputs": [
    {
     "name": "stdout",
     "output_type": "stream",
     "text": [
      "0.7922866213269819\n",
      "{'criterion': 'entropy', 'max_depth': 9}\n",
      "DecisionTreeClassifier(class_weight=None, criterion='entropy', max_depth=9,\n",
      "            max_features=None, max_leaf_nodes=None,\n",
      "            min_impurity_decrease=0.0, min_impurity_split=None,\n",
      "            min_samples_leaf=1, min_samples_split=2,\n",
      "            min_weight_fraction_leaf=0.0, presort=False, random_state=0,\n",
      "            splitter='best')\n"
     ]
    }
   ],
   "source": [
    "print(grid.best_score_)\n",
    "print(grid.best_params_)\n",
    "print(grid.best_estimator_)"
   ]
  },
  {
   "cell_type": "code",
   "execution_count": 73,
   "metadata": {},
   "outputs": [
    {
     "data": {
      "text/plain": [
       "0.79152197977163474"
      ]
     },
     "execution_count": 73,
     "metadata": {},
     "output_type": "execute_result"
    }
   ],
   "source": [
    "rfc = RandomForestClassifier(random_state=0)\n",
    "rfc.fit(X_train_selected, y_train)\n",
    "y_pred_class = dtc.predict(X_test_selected)\n",
    "metrics.accuracy_score(y_test, y_pred_class)"
   ]
  },
  {
   "cell_type": "code",
   "execution_count": 74,
   "metadata": {},
   "outputs": [
    {
     "data": {
      "text/plain": [
       "GridSearchCV(cv=10, error_score='raise',\n",
       "       estimator=RandomForestClassifier(bootstrap=True, class_weight=None, criterion='gini',\n",
       "            max_depth=None, max_features='auto', max_leaf_nodes=None,\n",
       "            min_impurity_decrease=0.0, min_impurity_split=None,\n",
       "            min_samples_leaf=1, min_samples_split=2,\n",
       "            min_weight_fraction_leaf=0.0, n_estimators=10, n_jobs=1,\n",
       "            oob_score=False, random_state=0, verbose=0, warm_start=False),\n",
       "       fit_params={}, iid=True, n_jobs=1,\n",
       "       param_grid={'max_depth': [1, 2, 3, 4, 5, 6, 7, 8, 9]},\n",
       "       pre_dispatch='2*n_jobs', refit=True, scoring='accuracy', verbose=0)"
      ]
     },
     "execution_count": 74,
     "metadata": {},
     "output_type": "execute_result"
    }
   ],
   "source": [
    "param_grid = {\"max_depth\": list(range(1,10,1))}\n",
    "grid = GridSearchCV(rfc, param_grid, cv=10, scoring='accuracy')\n",
    "grid.fit(X_train_selected, y_train)"
   ]
  },
  {
   "cell_type": "code",
   "execution_count": 75,
   "metadata": {},
   "outputs": [
    {
     "name": "stdout",
     "output_type": "stream",
     "text": [
      "0.791971431449451\n",
      "{'max_depth': 9}\n",
      "RandomForestClassifier(bootstrap=True, class_weight=None, criterion='gini',\n",
      "            max_depth=9, max_features='auto', max_leaf_nodes=None,\n",
      "            min_impurity_decrease=0.0, min_impurity_split=None,\n",
      "            min_samples_leaf=1, min_samples_split=2,\n",
      "            min_weight_fraction_leaf=0.0, n_estimators=10, n_jobs=1,\n",
      "            oob_score=False, random_state=0, verbose=0, warm_start=False)\n"
     ]
    }
   ],
   "source": [
    "print(grid.best_score_)\n",
    "print(grid.best_params_)\n",
    "print(grid.best_estimator_)"
   ]
  },
  {
   "cell_type": "code",
   "execution_count": null,
   "metadata": {},
   "outputs": [],
   "source": []
  }
 ],
 "metadata": {
  "kernelspec": {
   "display_name": "Python 3",
   "language": "python",
   "name": "python3"
  }
 },
 "nbformat": 4,
 "nbformat_minor": 2
}
